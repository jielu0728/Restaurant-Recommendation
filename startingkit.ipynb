{
 "cells": [
  {
   "cell_type": "code",
   "execution_count": 1,
   "metadata": {
    "collapsed": true
   },
   "outputs": [],
   "source": [
    "import csv\n",
    "import numpy as np\n",
    "from random import shuffle\n",
    "import scipy\n",
    "from sklearn.metrics import mean_squared_error"
   ]
  },
  {
   "cell_type": "code",
   "execution_count": 2,
   "metadata": {
    "collapsed": false
   },
   "outputs": [],
   "source": [
    "f1 = open('./train.csv','rb')\n",
    "f2 = open('./dev.csv','rb')\n",
    "f3 = open('./test.csv','rb')\n",
    "reader = csv.reader(f1)\n",
    "f1.readline()\n",
    "train = []\n",
    "dev = []\n",
    "test = []\n",
    "for row in reader:\n",
    "    train.append((row[0],row[1],row[2]))\n",
    "reader = csv.reader(f2)\n",
    "f2.readline()\n",
    "for row in reader:\n",
    "    dev.append((row[0],row[1],row[2]))\n",
    "reader = csv.reader(f3)\n",
    "f3.readline()\n",
    "for row in reader:\n",
    "    test.append((row[0],row[1],row[2]))\n",
    "f1.close()\n",
    "f2.close()\n",
    "f3.close()"
   ]
  },
  {
   "cell_type": "markdown",
   "metadata": {},
   "source": [
    "##Baseline\n",
    "$b_{u,i}=\\mu+b_{u}+b_{i}$<br><br>\n",
    "$b_{u}=\\frac{1}{\\left | I_{u} \\right |+\\beta_{u}}\\sum_{i\\in I_{u}}^{ }(r_{u,i}-\\mu)$<br><br>\n",
    "$b_{i}=\\frac{1}{\\left | U_{i} \\right |+\\beta_{i}}\\sum_{u\\in U_{i}}^{ }(r_{u,i}-b_{u}-\\mu)$<br><br>\n",
    "$b_{u,i}$ is the predicted rating for user u on restaurant i<br>\n",
    "$\\mu$ is the average rating over all ratings in the system<br>\n",
    "$r_{u,i}$ is the existant rating for user u on restaurant i<br>\n",
    "$\\left | I_{u} \\right |$ is number of ratings made by user u<br>\n",
    "$\\left | U_{i} \\right |$ is number of ratings made on restaurant i<br>\n",
    "$\\beta_{u}, \\beta_{i}$ are regularization terms<br>"
   ]
  },
  {
   "cell_type": "code",
   "execution_count": 3,
   "metadata": {
    "collapsed": false
   },
   "outputs": [],
   "source": [
    "class baseline:\n",
    "    bui = {}\n",
    "    u = 0\n",
    "    \n",
    "    def __init__(self,betau,betai):\n",
    "        self.betau = betau\n",
    "        self.betai = betai\n",
    "        \n",
    "    def fit(self,train):\n",
    "        user = {}\n",
    "        movie = {}\n",
    "        bu = {}\n",
    "        bi = {}\n",
    "        bui = {}\n",
    "        n = 0\n",
    "        for unit in set([x[0] for x in train]):\n",
    "            user[int(unit)] = n\n",
    "            n += 1\n",
    "        n = 0\n",
    "        for unit in set([x[1] for x in train]):\n",
    "            movie[int(unit)] = n\n",
    "            n += 1\n",
    "        u = np.mean([int(x[2]) for x in train])\n",
    "        self.u = u\n",
    "        matrix = np.zeros((len(user),len(movie)))\n",
    "        for data in train:\n",
    "            matrix[user[int(data[0])],movie[int(data[1])]] = int(data[2])\n",
    "        for usr in user.keys():\n",
    "            bu[usr] = 1./((len(np.where(matrix[user[usr],] != 0)[0]))+self.betau)*np.sum([x-u for x in matrix[user[usr],] if x != 0])\n",
    "        for mov in movie.keys():\n",
    "            bi[mov] = 1./((len(np.where(matrix[:,movie[mov]] != 0)[0]))+self.betai)*np.sum([x-u for x in matrix[:,movie[mov]] if x != 0])\n",
    "        for usr in user.keys():\n",
    "            for mov in movie.keys():\n",
    "                if matrix[user[usr],movie[mov]] == 0:\n",
    "                    bui[(usr,mov)] = u + bu[usr] + bi[mov]\n",
    "                else:\n",
    "                    bui[(usr,mov)] = matrix[user[usr],movie[mov]]\n",
    "        self.bui = bui\n",
    "        return 'Baseline Model training finished beta u = '+str(self.betau)+' beta i = '+str(self.betai)\n",
    "    \n",
    "    def predict(self,test):\n",
    "        result = []\n",
    "        for line in test:\n",
    "            if(int(line[0]),int(line[1])) not in self.bui:\n",
    "                result.append(round(self.u))\n",
    "            else:\n",
    "                result.append(round(self.bui[(int(line[0]),int(line[1]))]))\n",
    "        return result"
   ]
  },
  {
   "cell_type": "code",
   "execution_count": 4,
   "metadata": {
    "collapsed": false
   },
   "outputs": [
    {
     "data": {
      "text/plain": [
       "'Baseline Model training finished beta u = 25 beta i = 25'"
      ]
     },
     "execution_count": 4,
     "metadata": {},
     "output_type": "execute_result"
    }
   ],
   "source": [
    "bl = baseline(25,25)\n",
    "bl.fit(train)"
   ]
  },
  {
   "cell_type": "code",
   "execution_count": 5,
   "metadata": {
    "collapsed": false
   },
   "outputs": [],
   "source": [
    "predicted_ratings1 = bl.predict(dev)\n",
    "predicted_ratings2 = bl.predict(test)"
   ]
  },
  {
   "cell_type": "code",
   "execution_count": 6,
   "metadata": {
    "collapsed": true
   },
   "outputs": [],
   "source": [
    "fs = open('./dev.predict','w')\n",
    "for rating in predicted_ratings1:\n",
    "    fs.write(str(int(rating))+'\\n')\n",
    "fs.close()\n",
    "    \n",
    "fs2 = open('./test.predict','w')\n",
    "for rating in predicted_ratings2:\n",
    "    fs2.write(str(int(rating))+'\\n')\n",
    "fs2.close()"
   ]
  },
  {
   "cell_type": "code",
   "execution_count": 8,
   "metadata": {
    "collapsed": false
   },
   "outputs": [],
   "source": [
    "ft1 = open('./dev.solution')\n",
    "ft2 = open('./test.solution')\n",
    "truth1 = []\n",
    "truth2 = []\n",
    "for rating in ft1:\n",
    "    truth1.append(int(rating[0]))\n",
    "for rating in ft2:\n",
    "    truth2.append(int(rating[0]))"
   ]
  },
  {
   "cell_type": "code",
   "execution_count": 10,
   "metadata": {
    "collapsed": true
   },
   "outputs": [],
   "source": [
    "rmse_dev = mean_squared_error(predicted_ratings1,truth1)\n",
    "rmse_test = mean_squared_error(predicted_ratings2,truth2)"
   ]
  },
  {
   "cell_type": "code",
   "execution_count": 12,
   "metadata": {
    "collapsed": false
   },
   "outputs": [
    {
     "name": "stdout",
     "output_type": "stream",
     "text": [
      "RMSE of prediction baseline on dataset dev is 0.993664281455\n",
      "RMSE of prediction baseline on dataset test is 1.00402504472\n"
     ]
    }
   ],
   "source": [
    "print 'RMSE of prediction baseline on dataset dev is '+str(rmse_dev)\n",
    "print 'RMSE of prediction baseline on dataset test is '+str(rmse_test)"
   ]
  }
 ],
 "metadata": {
  "kernelspec": {
   "display_name": "Python 2",
   "language": "python",
   "name": "python2"
  },
  "language_info": {
   "codemirror_mode": {
    "name": "ipython",
    "version": 2
   },
   "file_extension": ".py",
   "mimetype": "text/x-python",
   "name": "python",
   "nbconvert_exporter": "python",
   "pygments_lexer": "ipython2",
   "version": "2.7.6"
  }
 },
 "nbformat": 4,
 "nbformat_minor": 0
}
